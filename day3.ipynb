{
 "cells": [
  {
   "cell_type": "code",
   "execution_count": 1,
   "id": "bd6c3b48-4e4e-4a92-b8f4-78979add18f2",
   "metadata": {},
   "outputs": [
    {
     "name": "stdout",
     "output_type": "stream",
     "text": [
      "hello\n"
     ]
    }
   ],
   "source": [
    "print(\"hello\")\n"
   ]
  },
  {
   "cell_type": "code",
   "execution_count": 2,
   "id": "a586bdf2-645b-49e1-9544-59fbd8dd48ef",
   "metadata": {},
   "outputs": [
    {
     "name": "stdout",
     "output_type": "stream",
     "text": [
      "a+b\n"
     ]
    }
   ],
   "source": [
    "a=10\n",
    "b=20\n",
    "print(\"a+b\")"
   ]
  },
  {
   "cell_type": "code",
   "execution_count": 8,
   "id": "1c8eef2f-ec38-481e-b0fa-00a331eab24f",
   "metadata": {},
   "outputs": [
    {
     "name": "stdout",
     "output_type": "stream",
     "text": [
      "5\n",
      "<class 'int'>\n",
      "(5, 5)\n",
      "<class 'tuple'>\n",
      "5\n",
      "<class 'str'>\n",
      "[5]\n",
      "<class 'list'>\n",
      "{5}\n",
      "<class 'set'>\n",
      "5\n",
      "<class 'int'>\n"
     ]
    }
   ],
   "source": [
    "a=5\n",
    "print(a)\n",
    "print(type(a))\n",
    "\n",
    "a=5,5\n",
    "print(a)\n",
    "print(type(a))\n",
    "\n",
    "a=\"5\"\n",
    "print(a)\n",
    "print(type(a))\n",
    "\n",
    "a=[5]\n",
    "print(a)\n",
    "print(type(a))\n",
    "\n",
    "a={5}\n",
    "print(a)\n",
    "print(type(a))\n",
    "\n",
    "a=(5)\n",
    "print(a)\n",
    "print(type(a))"
   ]
  },
  {
   "cell_type": "code",
   "execution_count": 9,
   "id": "251ba14e-d91f-431e-a397-68ffd9fc8464",
   "metadata": {},
   "outputs": [
    {
     "name": "stdout",
     "output_type": "stream",
     "text": [
      "abcd efgh ijkl\n"
     ]
    },
    {
     "ename": "NameError",
     "evalue": "name 'C' is not defined",
     "output_type": "error",
     "traceback": [
      "\u001b[1;31m---------------------------------------------------------------------------\u001b[0m",
      "\u001b[1;31mNameError\u001b[0m                                 Traceback (most recent call last)",
      "Cell \u001b[1;32mIn[9], line 6\u001b[0m\n\u001b[0;32m      3\u001b[0m c\u001b[38;5;241m=\u001b[39m\u001b[38;5;124m\"\u001b[39m\u001b[38;5;124mijkl\u001b[39m\u001b[38;5;124m\"\u001b[39m\n\u001b[0;32m      5\u001b[0m \u001b[38;5;28mprint\u001b[39m(a,b,c)\n\u001b[1;32m----> 6\u001b[0m \u001b[38;5;28mprint\u001b[39m(a\u001b[38;5;241m+\u001b[39mb\u001b[38;5;241m+\u001b[39m\u001b[43mC\u001b[49m)\n",
      "\u001b[1;31mNameError\u001b[0m: name 'C' is not defined"
     ]
    }
   ],
   "source": [
    "a=\"abcd\"\n",
    "b=\"efgh\"\n",
    "c=\"ijkl\"\n",
    "\n",
    "print(a,b,c)\n",
    "print(a+b+C)"
   ]
  },
  {
   "cell_type": "code",
   "execution_count": 11,
   "id": "3db324a2-4058-4f47-8b3d-2575b4b58a9c",
   "metadata": {},
   "outputs": [
    {
     "name": "stdin",
     "output_type": "stream",
     "text": [
      " 6\n"
     ]
    },
    {
     "name": "stdout",
     "output_type": "stream",
     "text": [
      "6\n",
      "<class 'str'>\n"
     ]
    }
   ],
   "source": [
    "a=input()\n",
    "print(a)\n",
    "print(type(a))"
   ]
  },
  {
   "cell_type": "code",
   "execution_count": null,
   "id": "5610d972-9d9b-438c-99c9-aa894a597066",
   "metadata": {},
   "outputs": [],
   "source": []
  },
  {
   "cell_type": "code",
   "execution_count": 13,
   "id": "f8648f57-4865-447c-8184-313b84011dc0",
   "metadata": {},
   "outputs": [
    {
     "name": "stdin",
     "output_type": "stream",
     "text": [
      " 6.6\n"
     ]
    },
    {
     "name": "stdout",
     "output_type": "stream",
     "text": [
      "6.6\n"
     ]
    }
   ],
   "source": [
    "a=input()\n",
    "print(a)"
   ]
  },
  {
   "cell_type": "code",
   "execution_count": 15,
   "id": "b350c7e5-8d1f-45fd-8bcb-c010570b5b93",
   "metadata": {},
   "outputs": [
    {
     "name": "stdin",
     "output_type": "stream",
     "text": [
      " 9\n",
      " 19\n"
     ]
    },
    {
     "name": "stdout",
     "output_type": "stream",
     "text": [
      "28\n",
      "<class 'str'>\n",
      "<class 'str'>\n",
      "<class 'int'>\n"
     ]
    }
   ],
   "source": [
    "a=input()\n",
    "b=input()\n",
    "c=int(a)+int(b)\n",
    "print(c)\n",
    "print(type(a))\n",
    "print(type(b))\n",
    "print(type(c))"
   ]
  },
  {
   "cell_type": "code",
   "execution_count": null,
   "id": "b94a843b-0191-4374-8fbb-12b748b714e1",
   "metadata": {},
   "outputs": [],
   "source": []
  },
  {
   "cell_type": "code",
   "execution_count": null,
   "id": "fadbef77-edb4-43e9-87a0-4fd531e06eec",
   "metadata": {},
   "outputs": [],
   "source": []
  },
  {
   "cell_type": "code",
   "execution_count": 20,
   "id": "e6480199-766f-4968-ba51-eaad74a1744e",
   "metadata": {},
   "outputs": [
    {
     "name": "stdin",
     "output_type": "stream",
     "text": [
      " 4\n",
      " 5\n"
     ]
    },
    {
     "name": "stdout",
     "output_type": "stream",
     "text": [
      "9\n",
      "<class 'int'>\n",
      "<class 'int'>\n",
      "<class 'int'>\n"
     ]
    }
   ],
   "source": [
    "a=int(input())\n",
    "b=int(input())\n",
    "c=a+b\n",
    "print(c)\n",
    "print(type(a))\n",
    "print(type(b))\n",
    "print(type(c))"
   ]
  },
  {
   "cell_type": "code",
   "execution_count": 31,
   "id": "dc777b83-3bd4-4365-aa03-e53b38ee5eb1",
   "metadata": {},
   "outputs": [
    {
     "name": "stdin",
     "output_type": "stream",
     "text": [
      "enter three number:  2 3 4\n"
     ]
    },
    {
     "name": "stdout",
     "output_type": "stream",
     "text": [
      "('2', '3', '4')\n"
     ]
    }
   ],
   "source": [
    "a,b,c=input(\"enter three number: \").split()\n",
    "\n",
    "\n",
    "d=(a,b,c)\n",
    "print (d)"
   ]
  },
  {
   "cell_type": "code",
   "execution_count": 34,
   "id": "aee57fc8-70cb-4aba-b908-ad7e43f5fb5c",
   "metadata": {},
   "outputs": [
    {
     "name": "stdin",
     "output_type": "stream",
     "text": [
      "enter three number:  1 3 4\n"
     ]
    },
    {
     "name": "stdout",
     "output_type": "stream",
     "text": [
      "('1', '3', '4')\n"
     ]
    }
   ],
   "source": [
    "a,b,c=input(\"enter three number: \").split()\n",
    "\n",
    "\n",
    "d=(a,b,c)\n",
    "print (d)"
   ]
  },
  {
   "cell_type": "code",
   "execution_count": 35,
   "id": "5a62ea13-628f-4e59-98e5-3ff1d0988614",
   "metadata": {},
   "outputs": [
    {
     "name": "stdin",
     "output_type": "stream",
     "text": [
      "enter three number:  4 csk 5.5\n"
     ]
    },
    {
     "name": "stdout",
     "output_type": "stream",
     "text": [
      "('4', 'csk', '5.5')\n"
     ]
    }
   ],
   "source": [
    "a,b,c=input(\"enter three number: \").split()\n",
    "\n",
    "\n",
    "d=(a,b,c)\n",
    "print (d)"
   ]
  },
  {
   "cell_type": "code",
   "execution_count": 36,
   "id": "f0050e11-9de4-4a6e-a34f-23a7234b1b47",
   "metadata": {},
   "outputs": [
    {
     "name": "stdin",
     "output_type": "stream",
     "text": [
      "enter three number:  4 raj 4\n"
     ]
    },
    {
     "name": "stdout",
     "output_type": "stream",
     "text": [
      "4raj4\n"
     ]
    }
   ],
   "source": [
    "a,b,c=input(\"enter three number: \").split()\n",
    "\n",
    "\n",
    "d=(a+b+c)\n",
    "print (d)\n"
   ]
  },
  {
   "cell_type": "code",
   "execution_count": 40,
   "id": "8a5dbd2a-36df-4363-8c9d-b7ad082e062a",
   "metadata": {},
   "outputs": [
    {
     "name": "stdout",
     "output_type": "stream",
     "text": [
      "('enter', 'three', 'number:')\n"
     ]
    }
   ],
   "source": [
    "a,b,c=(\"enter three number: \").split()\n",
    "\n",
    "\n",
    "d=(a,b,c)\n",
    "print (d)"
   ]
  },
  {
   "cell_type": "code",
   "execution_count": 1,
   "id": "2c49196e-075f-4ee0-9b88-d6eb9162c94b",
   "metadata": {},
   "outputs": [
    {
     "name": "stdin",
     "output_type": "stream",
     "text": [
      "Enter your Name:  15\n",
      "Enter your Age:  19\n"
     ]
    },
    {
     "name": "stdout",
     "output_type": "stream",
     "text": [
      "15\n",
      "You are elegible\n"
     ]
    }
   ],
   "source": [
    "Name = input(\"Enter your Name: \")\n",
    "age = int(input(\"Enter your Age: \"))\n",
    "\n",
    "if age>=18:\n",
    "    print(Name)\n",
    "    print(\"You are elegible\")\n",
    "else:\n",
    "    print(Name)\n",
    "    print(\"You are not elegible\")"
   ]
  },
  {
   "cell_type": "code",
   "execution_count": 2,
   "id": "c5cf6027-5291-417c-b69f-c8e0b01bd005",
   "metadata": {},
   "outputs": [
    {
     "name": "stdin",
     "output_type": "stream",
     "text": [
      "Enter your Name:  raj\n",
      "Enter your Age:  16\n"
     ]
    },
    {
     "name": "stdout",
     "output_type": "stream",
     "text": [
      "raj\n",
      "You are not elegible\n"
     ]
    }
   ],
   "source": [
    "Name = input(\"Enter your Name: \")\n",
    "age = int(input(\"Enter your Age: \"))\n",
    "\n",
    "if age>=18:\n",
    "    print(Name)\n",
    "    print(\"You are elegible\")\n",
    "else:\n",
    "    print(Name)\n",
    "    print(\"You are not elegible\")"
   ]
  },
  {
   "cell_type": "code",
   "execution_count": 3,
   "id": "18eefad7-fa43-4ca2-9ea4-750cdaa925d0",
   "metadata": {},
   "outputs": [
    {
     "name": "stdin",
     "output_type": "stream",
     "text": [
      "Enter your Name:  20\n",
      "Enter your Age:  12\n"
     ]
    },
    {
     "name": "stdout",
     "output_type": "stream",
     "text": [
      "20\n",
      "You are elegible\n"
     ]
    }
   ],
   "source": [
    "Name = input(\"Enter your Name: \")\n",
    "age = int(input(\"Enter your Age: \"))\n",
    "\n",
    "if 20>=18:\n",
    "    print(Name)\n",
    "    print(\"You are elegible\")\n",
    "else:\n",
    "    print(Name)\n",
    "    print(\"You are not elegible\")"
   ]
  },
  {
   "cell_type": "code",
   "execution_count": 4,
   "id": "6cd6cdff-935f-487c-8b02-42036b5c4575",
   "metadata": {},
   "outputs": [
    {
     "ename": "SyntaxError",
     "evalue": "invalid syntax (1133506389.py, line 10)",
     "output_type": "error",
     "traceback": [
      "\u001b[1;36m  Cell \u001b[1;32mIn[4], line 10\u001b[1;36m\u001b[0m\n\u001b[1;33m    else:\u001b[0m\n\u001b[1;37m    ^\u001b[0m\n\u001b[1;31mSyntaxError\u001b[0m\u001b[1;31m:\u001b[0m invalid syntax\n"
     ]
    }
   ],
   "source": [
    "a=int(input())\n",
    "b=int(input())\n",
    "c=int(input())\n",
    "\n",
    "if a>b:\n",
    "    if a>c:\n",
    "        print(\"a is largest\")\n",
    "    else:\n",
    "        print(\"c is largest\")\n",
    "    else:\n",
    "    if b>c:\n",
    "    print(\"b is largest\")\n",
    "else:\n",
    "print(\"c is largest\")"
   ]
  },
  {
   "cell_type": "code",
   "execution_count": 16,
   "id": "2ea8c3e2-3094-4950-a5f1-1987b24eb2c4",
   "metadata": {},
   "outputs": [
    {
     "name": "stdin",
     "output_type": "stream",
     "text": [
      " 4\n",
      " 5\n",
      " 6\n"
     ]
    },
    {
     "name": "stdout",
     "output_type": "stream",
     "text": [
      "c is largest\n"
     ]
    }
   ],
   "source": [
    "a= int(input())\n",
    "b= int(input())\n",
    "c= int(input())\n",
    "\n",
    "if a>b:\n",
    "    if a>c:\n",
    "        print(\"a is largest\")\n",
    "    else:\n",
    "        print(\"c is largest\")\n",
    "else:\n",
    "    if b>c:\n",
    "        print(\"b is largest\")\n",
    "    else:\n",
    "       print(\"c is largest\")\n",
    "\n",
    "\n"
   ]
  },
  {
   "cell_type": "code",
   "execution_count": 27,
   "id": "4694397f-7f71-4ccb-be35-e1484b6fa0b7",
   "metadata": {},
   "outputs": [
    {
     "ename": "IndentationError",
     "evalue": "unindent does not match any outer indentation level (<string>, line 5)",
     "output_type": "error",
     "traceback": [
      "\u001b[1;36m  File \u001b[1;32m<string>:5\u001b[1;36m\u001b[0m\n\u001b[1;33m    else:\u001b[0m\n\u001b[1;37m         ^\u001b[0m\n\u001b[1;31mIndentationError\u001b[0m\u001b[1;31m:\u001b[0m unindent does not match any outer indentation level\n"
     ]
    }
   ],
   "source": [
    "marks = int(input(\"Enter your Marks: \"))\n",
    "\n",
    "if marks>=90 and marks<=100;\n",
    "    print(\"Grade = A+\")\n",
    " else:\n",
    "     if marks>=80 and marks<=90;\n",
    "         print(\"Grade = A\")\n",
    "      else:\n",
    "         if marks>=70 and marks<=80;\n",
    "          print(\"Grade = B+\")\n",
    "        else:\n",
    "          if marks>=60 and marks<=70;\n",
    "          print(\"Grade = B\")\n",
    "        else:\n",
    "            if marks>=50 and marks<=60;\n",
    "              print(\"Grade = C\")\n",
    "          else:\n",
    "             if marks>=40 and marks<=50;\n",
    "               print(\"Grade = D\")\n",
    "           else:\n",
    "                if marks>=30 and marks<=40;\n",
    "                    print(\"Grade = E\")\n",
    "                else:\n",
    "                    if marks>=8 and marks<=30;\n",
    "                       print(\"Grade = F\")\n",
    "                   else:\n",
    "                   print(\"Invalid Marks\")\n"
   ]
  },
  {
   "cell_type": "code",
   "execution_count": null,
   "id": "8785a1bb-b9a5-4d08-9489-95c817c976cd",
   "metadata": {},
   "outputs": [],
   "source": [
    "Day = int(input(Enter the months))\n",
    "\n",
    "\n",
    "\n"
   ]
  },
  {
   "cell_type": "code",
   "execution_count": null,
   "id": "32f0fa91-f291-4250-8727-42c02ffe91f2",
   "metadata": {},
   "outputs": [],
   "source": [
    "for x in range"
   ]
  },
  {
   "cell_type": "code",
   "execution_count": 2,
   "id": "c3dfb4e5-8b2e-454e-beb8-0033845e9866",
   "metadata": {},
   "outputs": [
    {
     "name": "stdout",
     "output_type": "stream",
     "text": [
      "0\n",
      "1\n",
      "2\n",
      "3\n",
      "4\n",
      "5\n",
      "6\n",
      "7\n",
      "8\n",
      "9\n"
     ]
    },
    {
     "ename": "NameError",
     "evalue": "name 'Y' is not defined",
     "output_type": "error",
     "traceback": [
      "\u001b[1;31m---------------------------------------------------------------------------\u001b[0m",
      "\u001b[1;31mNameError\u001b[0m                                 Traceback (most recent call last)",
      "Cell \u001b[1;32mIn[2], line 7\u001b[0m\n\u001b[0;32m      4\u001b[0m     x\u001b[38;5;241m=\u001b[39mx\u001b[38;5;241m+\u001b[39m\u001b[38;5;241m1\u001b[39m\n\u001b[0;32m      6\u001b[0m \u001b[38;5;28;01mfor\u001b[39;00m y \u001b[38;5;129;01min\u001b[39;00m \u001b[38;5;28mrange\u001b[39m(\u001b[38;5;241m0\u001b[39m,\u001b[38;5;241m10\u001b[39m):\n\u001b[1;32m----> 7\u001b[0m     \u001b[38;5;28mprint\u001b[39m(\u001b[43mY\u001b[49m)\n",
      "\u001b[1;31mNameError\u001b[0m: name 'Y' is not defined"
     ]
    }
   ],
   "source": [
    "x=0\n",
    "while x<10:\n",
    "    print(x)\n",
    "    x=x+1\n",
    "\n",
    "for y in range(0,10):\n",
    "    print(Y)"
   ]
  },
  {
   "cell_type": "code",
   "execution_count": 3,
   "id": "eae55ced-e9a0-4b51-92db-441598ef0675",
   "metadata": {},
   "outputs": [
    {
     "name": "stdout",
     "output_type": "stream",
     "text": [
      "\n",
      "*\n",
      "**\n",
      "***\n",
      "****\n",
      "*****\n",
      "******\n",
      "*******\n",
      "********\n",
      "*********\n",
      "**********\n",
      "***********\n",
      "************\n",
      "*************\n",
      "**************\n",
      "***************\n",
      "****************\n",
      "*****************\n",
      "******************\n",
      "*******************\n"
     ]
    }
   ],
   "source": [
    "for x in range(0,20):\n",
    "    print('*' * x)"
   ]
  },
  {
   "cell_type": "code",
   "execution_count": null,
   "id": "923c6d75-4c15-40ab-af90-58f068d3c653",
   "metadata": {},
   "outputs": [],
   "source": [
    "initlization\n",
    "condition \n",
    "inc/dec\n",
    "working statement"
   ]
  },
  {
   "cell_type": "code",
   "execution_count": 1,
   "id": "671c1a36-f800-41b4-9cab-aa111f426865",
   "metadata": {},
   "outputs": [
    {
     "name": "stdout",
     "output_type": "stream",
     "text": [
      "0\n",
      "1\n",
      "2\n",
      "3\n",
      "4\n",
      "5\n",
      "6\n",
      "7\n",
      "8\n",
      "9\n",
      "*\n",
      "*\n",
      "*\n",
      "*\n",
      "*\n",
      "*\n",
      "*\n",
      "*\n",
      "*\n",
      "*\n",
      "*\n",
      "*\n",
      "*\n",
      "*\n",
      "*\n",
      "*\n",
      "*\n",
      "*\n",
      "*\n",
      "*\n",
      "*\n",
      "*\n",
      "*\n",
      "*\n",
      "*\n",
      "*\n",
      "*\n",
      "*\n",
      "*\n",
      "*\n",
      "*\n",
      "*\n",
      "*\n",
      "*\n",
      "*\n",
      "*\n",
      "*\n",
      "*\n",
      "*\n",
      "*\n",
      "*\n",
      "*\n",
      "*\n",
      "*\n",
      "*\n",
      "*\n",
      "*\n",
      "*\n",
      "*\n",
      "*\n",
      "*\n",
      "*\n",
      "*\n",
      "*\n",
      "*\n"
     ]
    }
   ],
   "source": [
    "x=0\n",
    "while x<10:\n",
    "    print(x)\n",
    "    x=x+1\n",
    "\n",
    "for y in range(0,10):\n",
    "    for x in range(0,y+1):\n",
    "        print(\"*\",end=\"\")\n",
    "        print()"
   ]
  },
  {
   "cell_type": "code",
   "execution_count": 2,
   "id": "80e5644f-229f-42d2-86e1-81b48ecbe276",
   "metadata": {},
   "outputs": [
    {
     "name": "stdout",
     "output_type": "stream",
     "text": [
      "*\n",
      "*\n",
      "*\n",
      "*\n",
      "*\n",
      "*\n",
      "*\n",
      "*\n",
      "*\n",
      "*\n",
      "*\n",
      "*\n",
      "*\n",
      "*\n",
      "*\n",
      "*\n",
      "*\n",
      "*\n",
      "*\n",
      "*\n",
      "*\n",
      "*\n",
      "*\n",
      "*\n",
      "*\n",
      "*\n",
      "*\n",
      "*\n",
      "*\n",
      "*\n",
      "*\n",
      "*\n",
      "*\n",
      "*\n",
      "*\n",
      "*\n",
      "*\n",
      "*\n",
      "*\n",
      "*\n",
      "*\n",
      "*\n",
      "*\n",
      "*\n",
      "*\n",
      "*\n",
      "*\n",
      "*\n",
      "*\n",
      "*\n",
      "*\n",
      "*\n",
      "*\n",
      "*\n",
      "*\n"
     ]
    }
   ],
   "source": [
    "for y in range(0,10):\n",
    "    for x in range(0,y+1):\n",
    "        print(\"*\",end=\"\")\n",
    "        print()"
   ]
  },
  {
   "cell_type": "code",
   "execution_count": null,
   "id": "c041508d-eadc-4721-b480-8fa2ed012daf",
   "metadata": {},
   "outputs": [],
   "source": [
    "def fibonacci(n):\n",
    "    fib_sequence = [0, 1]\n",
    "    while len(fib_sequence) < n:\n",
    "        fib_sequence.append(fib_sequence[-1] + fib_sequence[-2])\n",
    "    return fib_sequence\n",
    "\n",
    "n = int(input(\"Enter the number of terms: \"))\n",
    "print(fibonacci(n))\n",
    "\n"
   ]
  },
  {
   "cell_type": "code",
   "execution_count": 1,
   "id": "d6f59e84-f41b-400a-8981-23ee1cb5ff51",
   "metadata": {},
   "outputs": [
    {
     "name": "stdout",
     "output_type": "stream",
     "text": [
      "The string is a palindrome.\n"
     ]
    }
   ],
   "source": [
    "# Program to check if a string is palindrome or not\n",
    "\n",
    "my_str = 'aIbohPhoBiA'\n",
    "\n",
    "# make it suitable for caseless comparison\n",
    "my_str = my_str.casefold()\n",
    "\n",
    "# reverse the string\n",
    "rev_str = reversed(my_str)\n",
    "\n",
    "# check if the string is equal to its reverse\n",
    "if list(my_str) == list(rev_str):\n",
    "   print(\"The string is a palindrome.\")\n",
    "else:\n",
    "   print(\"The string is not a palindrome.\")\n",
    "\n"
   ]
  },
  {
   "cell_type": "code",
   "execution_count": 4,
   "id": "fa12a0ba-114c-4b94-ad26-0dcd58c72d85",
   "metadata": {},
   "outputs": [
    {
     "name": "stdin",
     "output_type": "stream",
     "text": [
      "Please Enter Your Own Character :  1\n"
     ]
    },
    {
     "name": "stdout",
     "output_type": "stream",
     "text": [
      "The Given Character  1 is Not a Lower or Uppercase Alphabet\n"
     ]
    }
   ],
   "source": [
    "# Python Program to check character is Lowercase or Uppercase\n",
    "ch = input(\"Please Enter Your Own Character : \")\n",
    "if(ch >= 'A' and ch <= 'Z'):\n",
    "    print(\"The Given Character \", ch, \"is an Uppercase Alphabet\") \n",
    "elif(ch >= 'a' and ch <= 'z'):\n",
    "    print(\"The Given Character \", ch, \"is a Lowercase Alphabet\")\n",
    "else:\n",
    "    print(\"The Given Character \", ch, \"is Not a Lower or Uppercase Alphabet\")\n"
   ]
  },
  {
   "cell_type": "code",
   "execution_count": 2,
   "id": "345ec363-1a7e-4bb4-ba92-d6ac344a9426",
   "metadata": {},
   "outputs": [
    {
     "name": "stdout",
     "output_type": "stream",
     "text": [
      "Reversed number: 9876\n"
     ]
    }
   ],
   "source": [
    "def reverse_number(num):\n",
    "    reversed_num = 0\n",
    "    while num > 0:\n",
    "        rem = num % 10\n",
    "        reversed_num = reversed_num * 10 + rem\n",
    "        num //= 10\n",
    "    return reversed_num\n",
    "\n",
    "number = 6789\n",
    "print(f\"Reversed number: {reverse_number(number)}\")\n",
    "\n"
   ]
  },
  {
   "cell_type": "code",
   "execution_count": 3,
   "id": "1c1168c0-f9b4-4201-b953-bf3cf51844c1",
   "metadata": {},
   "outputs": [
    {
     "name": "stdout",
     "output_type": "stream",
     "text": [
      "Factorial of 5 is 120\n"
     ]
    }
   ],
   "source": [
    "# Python 3 program to find\n",
    "# factorial of given number\n",
    "\n",
    "def factorial(n):\n",
    "\n",
    "    # single line to find factorial\n",
    "    return 1 if (n==1 or n==0) else n * factorial(n - 1) \n",
    "\n",
    "\n",
    "# Driver Code\n",
    "num = 5\n",
    "print (\"Factorial of\",num,\"is\",\n",
    "      factorial(num))\n",
    "\n",
    "\n",
    " "
   ]
  },
  {
   "cell_type": "code",
   "execution_count": 9,
   "id": "8dffcb3b-d018-4681-857b-498d52d9a6b9",
   "metadata": {},
   "outputs": [
    {
     "name": "stdout",
     "output_type": "stream",
     "text": [
      "The result of addition is: 15\n"
     ]
    }
   ],
   "source": [
    " # Addition operation\n",
    "num1 = 5\n",
    "num2 = 10\n",
    "result = num1 + num2\n",
    "print(\"The result of addition is:\", result)\n"
   ]
  },
  {
   "cell_type": "code",
   "execution_count": 10,
   "id": "1aad4e95-e2a1-48a9-962a-6ca52f0e89e8",
   "metadata": {},
   "outputs": [
    {
     "name": "stdout",
     "output_type": "stream",
     "text": [
      "The result of subtraction is: 8\n"
     ]
    }
   ],
   "source": [
    "# Subtraction operation\n",
    "num1 = 15\n",
    "num2 = 7\n",
    "result = num1 - num2\n",
    "print(\"The result of subtraction is:\", result)\n"
   ]
  },
  {
   "cell_type": "code",
   "execution_count": 11,
   "id": "af87515e-789e-46fc-a029-2484425bbb4b",
   "metadata": {},
   "outputs": [
    {
     "name": "stdout",
     "output_type": "stream",
     "text": [
      "The result of multiplication is: 50\n"
     ]
    }
   ],
   "source": [
    "# Multiplication operation\n",
    "num1 = 5\n",
    "num2 = 10\n",
    "result = num1 * num2\n",
    "print(\"The result of multiplication is:\", result)\n"
   ]
  },
  {
   "cell_type": "code",
   "execution_count": 12,
   "id": "8cae798d-e446-4509-9900-bd6104418e04",
   "metadata": {},
   "outputs": [
    {
     "name": "stdout",
     "output_type": "stream",
     "text": [
      "The result of division is: 4.0\n"
     ]
    }
   ],
   "source": [
    "# Division operation\n",
    "numerator = 20\n",
    "denominator = 5\n",
    "result = numerator / denominator\n",
    "print(\"The result of division is:\", result)\n"
   ]
  },
  {
   "cell_type": "code",
   "execution_count": 13,
   "id": "5713245b-dffb-4e9a-9c3e-448864446a2c",
   "metadata": {},
   "outputs": [
    {
     "name": "stdout",
     "output_type": "stream",
     "text": [
      "The remainder of division is: 2\n"
     ]
    }
   ],
   "source": [
    " # Modulus operation\n",
    "dividend = 17\n",
    "divisor = 5\n",
    "remainder = dividend % divisor\n",
    "print(\"The remainder of division is:\", remainder)\n"
   ]
  },
  {
   "cell_type": "code",
   "execution_count": null,
   "id": "ec2fc643-6ede-4175-adc3-17ab2a621348",
   "metadata": {},
   "outputs": [],
   "source": [
    " date 17/2024"
   ]
  },
  {
   "cell_type": "code",
   "execution_count": 2,
   "id": "614eb8b7-eeef-4dee-bf0f-653d5433e521",
   "metadata": {},
   "outputs": [
    {
     "name": "stdout",
     "output_type": "stream",
     "text": [
      "[1, 2, 3, 4, 5, 6]\n"
     ]
    }
   ],
   "source": [
    "a=[1,2,3,4,5,6]\n",
    "print(a)"
   ]
  },
  {
   "cell_type": "code",
   "execution_count": 5,
   "id": "fccd72ac-9646-40b6-bbc1-ebf94c16720b",
   "metadata": {},
   "outputs": [
    {
     "name": "stdout",
     "output_type": "stream",
     "text": [
      "<class 'list'>\n"
     ]
    }
   ],
   "source": [
    "a=[1,2,3,4,5,7]\n",
    "print(type(a))"
   ]
  },
  {
   "cell_type": "code",
   "execution_count": 8,
   "id": "e5702c86-60ee-4c26-9454-0c4f97b0d098",
   "metadata": {},
   "outputs": [
    {
     "name": "stdout",
     "output_type": "stream",
     "text": [
      "1\n",
      "2\n",
      "3\n",
      "4\n",
      "5.6\n"
     ]
    }
   ],
   "source": [
    "x=[1,2,3,4,5.6,7]\n",
    "for a in range(0,5):\n",
    "    print(x[a])\n"
   ]
  },
  {
   "cell_type": "code",
   "execution_count": 11,
   "id": "e4faba2b-4e85-4a32-84c5-6df467cb8ec5",
   "metadata": {},
   "outputs": [
    {
     "name": "stdout",
     "output_type": "stream",
     "text": [
      "type[slice(1, 10, None)]\n"
     ]
    }
   ],
   "source": [
    "a=(type[1:10])\n",
    "print(a)"
   ]
  },
  {
   "cell_type": "code",
   "execution_count": 12,
   "id": "a377219a-23f6-4ed7-b6c3-b521a1a495a5",
   "metadata": {},
   "outputs": [
    {
     "name": "stdout",
     "output_type": "stream",
     "text": [
      "1/10\n"
     ]
    }
   ],
   "source": [
    "from fractions import Fraction\n",
    "\n",
    "fraction = Fraction(1, 10)\n",
    "print(fraction)\n"
   ]
  },
  {
   "cell_type": "code",
   "execution_count": null,
   "id": "5dfefa4e-1420-4337-9d47-1ff0b6bb652b",
   "metadata": {},
   "outputs": [],
   "source": [
    "defextended\n",
    "  extended list by appending \n",
    "def pop\n",
    "remove and return iteam at index (default last)\n",
    "raise indexerror\n",
    "\n",
    " def count \n",
    "runes number of occurences of value\n",
    "\n",
    "def insert\n",
    "insert before an index \n",
    "\n",
    "def remove \n",
    "\n",
    "def sort\n",
    "sort the list in ascending order and return none.\n",
    "\n",
    "len(list)\n",
    "it is used for name of the list"
   ]
  },
  {
   "cell_type": "code",
   "execution_count": 14,
   "id": "70832cba-17b3-4f96-bb74-2ac71afa5656",
   "metadata": {},
   "outputs": [
    {
     "name": "stdout",
     "output_type": "stream",
     "text": [
      "[1, 2, 3, 4, 5]\n",
      "4\n",
      "[1, 2, 3, 5]\n",
      "[1, 2, 3, 5, 10]\n",
      "[1, 2, 3, 5, 10]\n",
      "[1, 2, 3, 5, 10, 10]\n",
      "[1, 2, 3, 5, 10, 10, 3, 10, 4, 2]\n",
      "2\n",
      "2\n",
      "2\n",
      "[1, 2, 3, 5, 9, 10, 10, 3, 10, 4, 2]\n",
      "11\n",
      "[10, 10, 10, 9, 5, 4, 3, 3, 2, 2, 1]\n",
      "[10, 10, 10, 9, 5, 4, 3, 2, 2, 1]\n"
     ]
    }
   ],
   "source": [
    "a=[1,2,3,4,5]\n",
    "b=a.copy()\n",
    "print(b)\n",
    "\n",
    "c=b.pop(3)\n",
    "print(c)\n",
    "\n",
    "print(b)\n",
    "b.append(10)\n",
    "print(b)\n",
    "\n",
    "print(b)\n",
    "b.append(10)\n",
    "print(b)\n",
    "b.append(3)\n",
    "b.append(10)\n",
    "b.append(4)\n",
    "b.append(2)\n",
    "print(b)\n",
    "\n",
    "print(b.index(3))\n",
    "print(b.count(3))\n",
    "print(b.count(3))\n",
    "b.insert(4,9)\n",
    "print(b)\n",
    "print(len(b))\n",
    "b.sort(reverse=True)\n",
    "print(b)\n",
    "b.remove(3)\n",
    "print(b)\n",
    "\n"
   ]
  },
  {
   "cell_type": "code",
   "execution_count": 28,
   "id": "2672c0ed-c28e-4047-b127-849494a8f237",
   "metadata": {},
   "outputs": [
    {
     "ename": "IndentationError",
     "evalue": "expected an indented block after 'for' statement on line 2 (2645732775.py, line 3)",
     "output_type": "error",
     "traceback": [
      "\u001b[1;36m  Cell \u001b[1;32mIn[28], line 3\u001b[1;36m\u001b[0m\n\u001b[1;33m    x=input()\u001b[0m\n\u001b[1;37m    ^\u001b[0m\n\u001b[1;31mIndentationError\u001b[0m\u001b[1;31m:\u001b[0m expected an indented block after 'for' statement on line 2\n"
     ]
    }
   ],
   "source": [
    "n=int(input(\"Enter the size of list: \"))\n",
    "for x in range(0,n):\n",
    "x=input()\n",
    "a.append(x)\n",
    "print(a)"
   ]
  },
  {
   "cell_type": "code",
   "execution_count": 36,
   "id": "c437378a-ac6c-404b-8d6b-fe1e7e4beaad",
   "metadata": {},
   "outputs": [
    {
     "name": "stdin",
     "output_type": "stream",
     "text": [
      "Enter the elements of the list:  1 2 3 4 5 6 7 8 9\n"
     ]
    },
    {
     "name": "stdout",
     "output_type": "stream",
     "text": [
      "['1', '2', '3', '4', '5', '6', '7', '8', '9']\n"
     ]
    }
   ],
   "source": [
    "L = [item for item in input(\"Enter the elements of the list: \").split()]\n",
    "print(L)"
   ]
  },
  {
   "cell_type": "code",
   "execution_count": 38,
   "id": "02dd1682-9671-4857-8c46-db73fa23e3d8",
   "metadata": {},
   "outputs": [
    {
     "name": "stdout",
     "output_type": "stream",
     "text": [
      "[1, 2, 3, 4, 5, 6]\n"
     ]
    }
   ],
   "source": [
    "a=list([1,2,3,4,5,6])\n",
    "print(a)"
   ]
  },
  {
   "cell_type": "markdown",
   "id": "0f11f623-7e16-468b-9cd1-6bb56ae7f746",
   "metadata": {},
   "source": [
    "   tuple"
   ]
  },
  {
   "cell_type": "code",
   "execution_count": 39,
   "id": "d20d1b0c-b0eb-40e8-b6cf-fa337fd33bcc",
   "metadata": {},
   "outputs": [
    {
     "name": "stdout",
     "output_type": "stream",
     "text": [
      "[10, 10, 10, 9, 5, 4, 3, 2, 2, 1]\n",
      "(10, 10, 10, 9, 5, 'esh', 3, 2, 2, 1)\n"
     ]
    }
   ],
   "source": [
    "a=(1,2,3,4,5,\"esh\")\n",
    "print(b)\n",
    "b[5]=\"esh\"\n",
    "\n",
    "a=tuple(b)\n",
    "print(a)"
   ]
  },
  {
   "cell_type": "code",
   "execution_count": 42,
   "id": "604cfca2-39c5-4b39-8c5f-79e06c5875c5",
   "metadata": {},
   "outputs": [
    {
     "name": "stdout",
     "output_type": "stream",
     "text": [
      "(1, 2, 3, 4, 5, 'esh')\n",
      "[1, 2, 3, 4, 5, 'esh']\n",
      "(1, 2, 3, 4, 5, 'esh')\n",
      "5\n"
     ]
    }
   ],
   "source": [
    "a=(1,2,3,4,5,\"esh\")\n",
    "print(a)\n",
    "\n",
    "b=list(a)\n",
    "print(b)\n",
    "b[5]=\"esh\"\n",
    "\n",
    "a=tuple(b)\n",
    "print(a)\n",
    "print(a[-2])\n"
   ]
  },
  {
   "cell_type": "code",
   "execution_count": 43,
   "id": "c053e523-2c38-4879-ad1b-37529a2f57be",
   "metadata": {},
   "outputs": [
    {
     "name": "stdout",
     "output_type": "stream",
     "text": [
      "9\n",
      "8\n",
      "7\n",
      "6\n",
      "5\n",
      "4\n",
      "3\n",
      "2\n",
      "1\n"
     ]
    }
   ],
   "source": [
    "a=(1,2,3,4,5,6,7,8,9)\n",
    "for x in range(-1,-1*(len(a)+1),-1):\n",
    "    print(a[x])"
   ]
  },
  {
   "cell_type": "code",
   "execution_count": 44,
   "id": "5058d7d4-1134-4c32-95f3-103468661b3a",
   "metadata": {},
   "outputs": [
    {
     "name": "stdout",
     "output_type": "stream",
     "text": [
      "9\n",
      "8\n",
      "7\n",
      "6\n",
      "5\n",
      "4\n",
      "3\n",
      "2\n",
      "1\n"
     ]
    }
   ],
   "source": [
    "a=(1,2,3,4,5,6,7,8,9)\n",
    "for x in range(0,len(a)):\n",
    "    print(a[-1*(x+1)])"
   ]
  },
  {
   "cell_type": "markdown",
   "id": "9ded2d9b-52bd-4eeb-8f73-a579d44805eb",
   "metadata": {},
   "source": [
    "Dictoniary\n",
    "\n",
    "key and values\n",
    "key values pair\n",
    "\n",
    "  FOUR TYPES FUNCTION \n",
    "  key()\n",
    "  value()\n",
    "  function()\n",
    "  get()\n",
    "  copy()\n"
   ]
  },
  {
   "cell_type": "code",
   "execution_count": 45,
   "id": "8f7cf96c-d195-45a7-86d7-5b3d30b1a777",
   "metadata": {},
   "outputs": [
    {
     "name": "stdout",
     "output_type": "stream",
     "text": [
      "{1: 'RAJ', 2: 'vardan', 3: 'rock'}\n"
     ]
    }
   ],
   "source": [
    "D={1:\"RAJ\",2:\"vardan\",3:\"rock\"}\n",
    "print(D)\n",
    "\n",
    "print(D"
   ]
  },
  {
   "cell_type": "markdown",
   "id": "ce216515-6e40-4c6e-b313-f1dfc40eca54",
   "metadata": {},
   "source": [
    "WRITE A PROGRAM TO TAKE KEY AND VALUE FROM THE USER ADD TO THE DICTONARY.IF KEY NOT PRESENT   OTHER WISE KEY IS EXISTING AND PRINT VALUE."
   ]
  },
  {
   "cell_type": "code",
   "execution_count": 46,
   "id": "0ee1801f-9d1c-4f4a-82d4-0612b02561e4",
   "metadata": {},
   "outputs": [
    {
     "name": "stdout",
     "output_type": "stream",
     "text": [
      "{1: 'RAGHU', 2: 'RD', 3: 'MK'}\n"
     ]
    }
   ],
   "source": [
    "D={1:\"RAGHU\",2:\"Md\",3:\"MK\",2:\"RD\"}\n",
    "print(D)"
   ]
  },
  {
   "cell_type": "code",
   "execution_count": 48,
   "id": "0c9f7d53-9a38-483e-8a8f-f52728fad338",
   "metadata": {},
   "outputs": [
    {
     "name": "stdout",
     "output_type": "stream",
     "text": [
      "{1: 'RAGHU', 2: 'Md', 3: 'MKRD'}\n"
     ]
    }
   ],
   "source": [
    "D={1:\"RAGHU\",2:\"Md\",3:\"MK\",\"RD\"}\n",
    "print(D)"
   ]
  },
  {
   "cell_type": "code",
   "execution_count": 49,
   "id": "0bbddb4f-e34c-47ad-a4a5-84da32fa7981",
   "metadata": {},
   "outputs": [
    {
     "name": "stdout",
     "output_type": "stream",
     "text": [
      "{1: 'RAGHU', 2: 'Md', 3: 'MKRD', 4: 'BITM'}\n"
     ]
    }
   ],
   "source": [
    "D[4]=\"BITM\"\n",
    "print(D)\n"
   ]
  },
  {
   "cell_type": "code",
   "execution_count": 53,
   "id": "9851dfdf-5f11-40a0-855c-26fb7470883a",
   "metadata": {},
   "outputs": [
    {
     "name": "stdout",
     "output_type": "stream",
     "text": [
      "{1: 'bru', 2: 'co', 3: 'rk'}\n",
      "co\n",
      "dict_keys([1, 2, 3])\n",
      "dict_values(['bru', 'co', 'rk'])\n",
      "dict_items([(1, 'bru'), (2, 'co'), (3, 'rk')])\n",
      "{1: 'bru', 2: 'co', 3: 'rk', 4: 'bru'}\n",
      "{1: 'bru', 2: 'co', 3: 'rk', 4: 'bru', 5: 'MK'}\n"
     ]
    }
   ],
   "source": [
    "D={1:\"bru\",2:\"co\",3:\"rk\"}\n",
    "print(D)\n",
    "print(D[2])\n",
    "print(D.keys())\n",
    "print(D.values())\n",
    "print(D.items())\n",
    "D[4]=\"bru\"\n",
    "print(D)\n",
    "D[5]=\"MK\"\n",
    "print(D)"
   ]
  },
  {
   "cell_type": "markdown",
   "id": "2036e303-ac71-4dbe-b10f-fca0ee6e8d1c",
   "metadata": {},
   "source": [
    " error and expection\n",
    " types of error\n",
    " diffrence between syntax error and expection\n",
    " write a program and implement a error expection\n",
    " "
   ]
  },
  {
   "cell_type": "code",
   "execution_count": 8,
   "id": "d16b70b0-693d-44fe-a4a6-277620b81bba",
   "metadata": {},
   "outputs": [
    {
     "name": "stdin",
     "output_type": "stream",
     "text": [
      "enter the index: 7\n"
     ]
    },
    {
     "name": "stdout",
     "output_type": "stream",
     "text": [
      "8\n"
     ]
    }
   ],
   "source": [
    "a=[1,2,3,4,5,6,7,8,9]\n",
    "i=int(input(\"enter the index:\"))\n",
    "try:\n",
    "    print(a[i])\n",
    "except:\n",
    "    print(\"there is no such index\")"
   ]
  },
  {
   "cell_type": "code",
   "execution_count": 13,
   "id": "a3f82fb0-d4c8-41ba-89ac-d001fc7c8979",
   "metadata": {},
   "outputs": [
    {
     "name": "stdin",
     "output_type": "stream",
     "text": [
      " 10\n",
      " 40\n"
     ]
    },
    {
     "name": "stdout",
     "output_type": "stream",
     "text": [
      "Some unknown Error Found\n",
      "Code Execution done\n"
     ]
    }
   ],
   "source": [
    "try:\n",
    "    a=input()\n",
    "    b=input()\n",
    "    c=int(a)/int(b)\n",
    "    x=\"hello\"/3\n",
    "except ValueError:\n",
    "    print(\"Value unable to convert\")\n",
    "except ZeroDivisionError:\n",
    "    print(\"Can't Divide by Zero\")\n",
    "except :\n",
    "    print(\"Some unknown Error Found\")\n",
    "else :\n",
    "    print(\"No Error\")\n",
    "finally:\n",
    "  print(\"Code Execution done\")"
   ]
  },
  {
   "cell_type": "code",
   "execution_count": null,
   "id": "90f85dce-62a6-44cf-b22a-2063e9d3d89c",
   "metadata": {},
   "outputs": [],
   "source": [
    "WRITE A python program to find some of all the elements in the list and handle the case non numeric value?\n",
    "create a dictonary "
   ]
  },
  {
   "cell_type": "code",
   "execution_count": 1,
   "id": "db79c867-ec24-4eac-ad2b-f1a254bc9db5",
   "metadata": {},
   "outputs": [
    {
     "name": "stdout",
     "output_type": "stream",
     "text": [
      "List contains non-numeric values: ['a', 'b']\n"
     ]
    }
   ],
   "source": [
    "my_list = [1, 2, 3, 'a', 5, 'b']\n",
    "\n",
    "# Check if list contains non-numeric values\n",
    "non_numeric_values = [x for x in my_list if not isinstance(x, (int, float))]\n",
    "\n",
    "if non_numeric_values:\n",
    "    print(\"List contains non-numeric values:\", non_numeric_values)\n",
    "else:\n",
    "    print(\"List contains only numeric values.\")\n"
   ]
  },
  {
   "cell_type": "code",
   "execution_count": 4,
   "id": "1455e14f-11e9-4f2f-b118-a34f07c24437",
   "metadata": {},
   "outputs": [
    {
     "name": "stdout",
     "output_type": "stream",
     "text": [
      "Eshwar's grade: 85\n",
      "Brundha's grade: 90\n",
      "Charu's grade: 75\n",
      "David's grade: 88\n",
      "Evs's grade: 92\n",
      "Updated dictionary: {'Eshwar': 85, 'Brundha': 95, 'David': 88, 'Evs': 92, 'Frank': 80}\n",
      "Average grade: 86.0\n"
     ]
    }
   ],
   "source": [
    "student_grades = {\n",
    "    \"Eshwar\": 85,\n",
    "    \"Brundha\": 90,\n",
    "    \"Charu\": 75,\n",
    "    \"David\": 88,\n",
    "    \"Evs\": 92\n",
    "}\n",
    "\n",
    "# Accessing grades of students\n",
    "print(\"Eshwar's grade:\", student_grades[\"Eshwar\"])\n",
    "print(\"Brundha's grade:\", student_grades[\"Brundha\"])\n",
    "print(\"Charu's grade:\", student_grades[\"Charu\"])\n",
    "print(\"David's grade:\", student_grades[\"David\"])\n",
    "print(\"Evs's grade:\", student_grades[\"Evs\"])\n",
    "\n",
    "# Adding a new student and grade\n",
    "student_grades[\"Frank\"] = 80\n",
    "\n",
    "# Modifying an existing student's grade\n",
    "student_grades[\"Brundha\"] = 95\n",
    "\n",
    "\n",
    "# Removing a student from the dictionary\n",
    "del student_grades[\"Charu\"]\n",
    "\n",
    "print(\"Updated dictionary:\", student_grades)\n",
    "def calculate_average_grade(student_grades):\n",
    "    if not student_grades:  # Check if the dictionary is empty\n",
    "        print(\"Dictionary is empty. Cannot calculate average grade.\")\n",
    "        return None\n",
    "    \n",
    "    total_grade = sum(student_grades.values())\n",
    "    average_grade = total_grade / len(student_grades)\n",
    "    return average_grade\n",
    "\n",
    "# Example student grades dictionary\n",
    "student_grades = {\n",
    "    \"Eshwar\": 85,\n",
    "    \"Brundha\": 90,\n",
    "    \"Charu\": 75,\n",
    "    \"David\": 88,\n",
    "    \"Evs\": 92\n",
    "}\n",
    "\n",
    "average = calculate_average_grade(student_grades)\n",
    "if average is not None:\n",
    "    print(\"Average grade:\", average)\n"
   ]
  },
  {
   "cell_type": "code",
   "execution_count": null,
   "id": "a8ab436c-42bf-45e2-961a-c87477c65e3c",
   "metadata": {},
   "outputs": [],
   "source": []
  },
  {
   "cell_type": "code",
   "execution_count": null,
   "id": "9711786d-055f-4e20-93df-923dcc604e2a",
   "metadata": {},
   "outputs": [],
   "source": []
  },
  {
   "cell_type": "code",
   "execution_count": null,
   "id": "2355a0ec-a23f-4d88-876e-a84fd6ae588a",
   "metadata": {},
   "outputs": [],
   "source": []
  }
 ],
 "metadata": {
  "kernelspec": {
   "display_name": "Python 3 (ipykernel)",
   "language": "python",
   "name": "python3"
  },
  "language_info": {
   "codemirror_mode": {
    "name": "ipython",
    "version": 3
   },
   "file_extension": ".py",
   "mimetype": "text/x-python",
   "name": "python",
   "nbconvert_exporter": "python",
   "pygments_lexer": "ipython3",
   "version": "3.12.3"
  }
 },
 "nbformat": 4,
 "nbformat_minor": 5
}
