{
 "cells": [
  {
   "cell_type": "markdown",
   "id": "7dd4cb18-b7fc-4164-8526-1967f675afa9",
   "metadata": {},
   "source": [
    "oops concept"
   ]
  },
  {
   "cell_type": "markdown",
   "id": "a87a2884-b4a7-46b6-a942-77c9332bf3ac",
   "metadata": {},
   "source": [
    "create a laptop class\n",
    "with variable as processor,Ram and storage\n",
    "\n",
    "C\n",
    "\n",
    "create 3 object of laptop with diffrent brand display its configuration"
   ]
  },
  {
   "cell_type": "markdown",
   "id": "b4da002f-8508-4942-b5fd-30ad1485850d",
   "metadata": {},
   "source": [
    "1) create a laptop class\n",
    "with variable as processor,Ram and storage\n"
   ]
  },
  {
   "cell_type": "code",
   "execution_count": 8,
   "id": "a26e5436-ebcf-4b11-a7c0-b534cfd961a4",
   "metadata": {},
   "outputs": [
    {
     "name": "stdout",
     "output_type": "stream",
     "text": [
      "this laptop is 8gb Ram 1TB SSD\n",
      "0\n"
     ]
    }
   ],
   "source": [
    "class laptop:\n",
    "   a=0\n",
    "   def config(self):\n",
    "        print(\"this laptop is 8gb Ram 1TB SSD\")\n",
    "\n",
    "hp = laptop()\n",
    "\n",
    "hp.config()\n",
    "print(hp.a)\n",
    "      "
   ]
  },
  {
   "cell_type": "code",
   "execution_count": null,
   "id": "e528a7d5-a21d-46ab-85da-1cd33311ff75",
   "metadata": {},
   "outputs": [],
   "source": [
    "2)  create a laptop class\n",
    "with variable as processor,Ram and storage\n"
   ]
  },
  {
   "cell_type": "code",
   "execution_count": 3,
   "id": "1c1b9c04-e300-4f9c-b67a-47e0d5f9604c",
   "metadata": {},
   "outputs": [
    {
     "name": "stdout",
     "output_type": "stream",
     "text": [
      "configuration of the laptop is: \n",
      "processor i5\n",
      "Ram 8\n",
      "storage 512\n"
     ]
    }
   ],
   "source": [
    "class laptop:\n",
    "    def __init__(self,p,r,s):\n",
    "        self.processor=p\n",
    "        self.ram=r\n",
    "        self.storage=s\n",
    "    def config(self):\n",
    "        print(\"configuration of the laptop is: \")\n",
    "        print(\"processor\",self.processor)\n",
    "        print(\"Ram\",self.ram)\n",
    "        print(\"storage\",self.storage)\n",
    "\n",
    "if __name__ ==\"__main__\":\n",
    "     hp = laptop(\"i5\",8,512)\n",
    "     hp.config()\n",
    "\n",
    "\n",
    "    \n",
    "    "
   ]
  },
  {
   "cell_type": "code",
   "execution_count": 45,
   "id": "5d16fe63-8222-48b1-83f1-dcc5ee7cc475",
   "metadata": {},
   "outputs": [
    {
     "name": "stdout",
     "output_type": "stream",
     "text": [
      "student1 =  42.166666666666664\n",
      "student2 =  42.666666666666664\n",
      "student3 =  48.544\n"
     ]
    }
   ],
   "source": [
    "class student:\n",
    "    def __init__(self,m):\n",
    "        self.mark=m\n",
    "    def avg(self):\n",
    "        s=0\n",
    "        for i in self.mark:\n",
    "            s+=i\n",
    "        return (s/len(self.mark))\n",
    "\n",
    "if __name__==\"__main__\":\n",
    "    st1=student([36,47,45,39,38,48])\n",
    "    st2=student([37,45,65,20,39,50])\n",
    "    st3=student([46,47,49,60.72,40])\n",
    "\n",
    "    print('student1 = ',st1.avg())\n",
    "    print('student2 = ',st2.avg())\n",
    "    print('student3 = ',st3.avg())"
   ]
  },
  {
   "cell_type": "markdown",
   "id": "8ed49022-76b4-4dad-b0ce-0fa9b97fdbc2",
   "metadata": {},
   "source": [
    "public ,private."
   ]
  },
  {
   "cell_type": "code",
   "execution_count": 10,
   "id": "805f914d-f6e0-4183-a883-3e529338e433",
   "metadata": {},
   "outputs": [
    {
     "name": "stdout",
     "output_type": "stream",
     "text": [
      "constracter of class B\n"
     ]
    }
   ],
   "source": [
    "class a:\n",
    "    def __init__(self):\n",
    "        print(\"constracter of class A\")\n",
    "class b:\n",
    "    def __init__(self):\n",
    "        print(\"constracter of class B\")\n",
    "class c:\n",
    "    def __init__(self):\n",
    "        print(\"constracter of class C\")\n",
    "class d:\n",
    "    def __init__(self):\n",
    "        print(\"constracter of class D\")\n",
    "\n",
    "if __name__==\"__main__\":\n",
    "    Ob1=b()"
   ]
  },
  {
   "cell_type": "code",
   "execution_count": 20,
   "id": "68ed6d29-5eff-46a7-a6e4-114be5183705",
   "metadata": {},
   "outputs": [
    {
     "name": "stdout",
     "output_type": "stream",
     "text": [
      "construtctor of class C\n",
      "5 14\n"
     ]
    }
   ],
   "source": [
    "class C:\n",
    "    def __init__(self,a=12,b=14):\n",
    "        print(\"construtctor of class C\")\n",
    "        self.x=a\n",
    "        self.y=b\n",
    "        print(self.x,self.y)\n",
    "\n",
    "ob=C(5)\n",
    "\n"
   ]
  },
  {
   "cell_type": "markdown",
   "id": "f9b2f9b9-78f0-4347-93b9-e5fee8351534",
   "metadata": {},
   "source": [
    "toic\n",
    "overriding\n",
    "overloading\n"
   ]
  },
  {
   "cell_type": "code",
   "execution_count": 7,
   "id": "e5b0f5ad-7189-4a47-9f85-a7822180057f",
   "metadata": {},
   "outputs": [
    {
     "name": "stdout",
     "output_type": "stream",
     "text": [
      "Processor=i5\n",
      "Ram=8 GB\n",
      "Storage=512\n",
      "Battery=12 hrs\n",
      "Processor=i7\n",
      "Ram=8 GB\n",
      "Storage=256\n",
      "Graphic card=6 GB\n"
     ]
    }
   ],
   "source": [
    "class laptop:\n",
    "    def __init__(self,p,r,s):\n",
    "        self.processor=p\n",
    "        self.ram=r\n",
    "        self.storage=s\n",
    "\n",
    "    def printfeatures(self):\n",
    "        print(f'Processor={self.processor}\\nRam={self.ram} GB\\nStorage={self.storage}')\n",
    "\n",
    "class professionallaptop(laptop):\n",
    "    def __init__(self,p,r,s,b):\n",
    "        super().__init__(p,r,s)\n",
    "        self.battery=b\n",
    "\n",
    "    def printfeatures(self):\n",
    "        super().printfeatures()\n",
    "        print(f'Battery={self.battery} hrs')\n",
    "class gaminglaptop(laptop):\n",
    "    def __init__(self,p,r,s,g):\n",
    "        super().__init__(p,r,s)\n",
    "        self.graphiccard=g\n",
    "\n",
    "    def printfeatures(self):\n",
    "        super().printfeatures()\n",
    "        print(f'Graphic card={self.graphiccard} GB')\n",
    "\n",
    "dell=professionallaptop('i5',8,512,12)\n",
    "Asus=gaminglaptop('i7',8,256,6)\n",
    "\n",
    "dell.printfeatures()\n",
    "Asus.printfeatures()"
   ]
  },
  {
   "cell_type": "code",
   "execution_count": 49,
   "id": "f1f7652e-6210-4530-b61a-88ee8dfc81f0",
   "metadata": {},
   "outputs": [
    {
     "name": "stdout",
     "output_type": "stream",
     "text": [
      "Ticket booked Fare Price will be:  195050\n"
     ]
    }
   ],
   "source": [
    "class ticket:\n",
    "   \n",
    "    def _init_(self,D):\n",
    "        self.distance = int(D)\n",
    "        self.farePrice = None\n",
    "\n",
    "class gen(ticket):\n",
    "    def __init__(self,D):\n",
    "        super()._init_(D)\n",
    "    def print_ticket(self):\n",
    "        self.farePrice=50+(self.distance*2)\n",
    "        return self.farePrice\n",
    "        \n",
    "\n",
    "\n",
    "class slp(gen):\n",
    "    def __init__(self,D):\n",
    "        super()._init_(D)\n",
    "\n",
    "    def print_ticket(self):\n",
    "        self.farePrice=super().print_ticket()+(2*self.distance)\n",
    "        return self.farePrice\n",
    "\n",
    "class AC(slp):\n",
    "    def _init_(self,D):\n",
    "        super()._init_(D)\n",
    "    def print_ticket(self):\n",
    "        self.farePrice=super().print_ticket()+(4*self.distance)\n",
    "        return self.farePrice\n",
    "\n",
    "class FC(AC):\n",
    "    def _init_(self,D):\n",
    "        super()._init_(D)\n",
    "    def print_ticket(self):\n",
    "        self.farePrice=super().print_ticket()+(5*self.distance)\n",
    "        return self.farePrice\n",
    "\n",
    "\n",
    "jur = FC(15000)\n",
    "print(\"Ticket booked Fare Price will be: \",jur.print_ticket())"
   ]
  },
  {
   "cell_type": "code",
   "execution_count": null,
   "id": "b0b6a74a-9f67-4b65-a3ba-efa5e77ec16a",
   "metadata": {},
   "outputs": [],
   "source": []
  },
  {
   "cell_type": "code",
   "execution_count": null,
   "id": "ad647fec-d86f-4ae2-88ea-236060c388c1",
   "metadata": {},
   "outputs": [],
   "source": []
  }
 ],
 "metadata": {
  "kernelspec": {
   "display_name": "Python 3 (ipykernel)",
   "language": "python",
   "name": "python3"
  },
  "language_info": {
   "codemirror_mode": {
    "name": "ipython",
    "version": 3
   },
   "file_extension": ".py",
   "mimetype": "text/x-python",
   "name": "python",
   "nbconvert_exporter": "python",
   "pygments_lexer": "ipython3",
   "version": "3.12.3"
  }
 },
 "nbformat": 4,
 "nbformat_minor": 5
}
